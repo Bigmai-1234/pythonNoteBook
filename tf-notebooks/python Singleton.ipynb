{
 "cells": [
  {
   "cell_type": "code",
   "execution_count": 1,
   "metadata": {},
   "outputs": [
    {
     "name": "stdout",
     "output_type": "stream",
     "text": [
      "\n",
      "\n",
      "python singleton\n",
      "\n"
     ]
    }
   ],
   "source": [
    "print(\"\"\"\n",
    "\n",
    "python singleton\n",
    "\"\"\")"
   ]
  },
  {
   "cell_type": "code",
   "execution_count": 3,
   "metadata": {},
   "outputs": [
    {
     "data": {
      "text/plain": [
       "True"
      ]
     },
     "execution_count": 3,
     "metadata": {},
     "output_type": "execute_result"
    }
   ],
   "source": [
    "def singleton(cls):\n",
    "    \"\"\"\n",
    "    \n",
    "    利用装饰器实现\n",
    "    \n",
    "    \"\"\"\n",
    "    \n",
    "    instance = {}\n",
    "    def wrapper(*args,**kwrags):\n",
    "        if cls not in instance:\n",
    "            instance[cls] = cls(*args,**kwrags)\n",
    "        return instance[cls]\n",
    "    return wrapper\n",
    "\n",
    "@singleton\n",
    "class Foo(object):\n",
    "    pass\n",
    "\n",
    "foo1 = Foo()\n",
    "foo2 = Foo()\n",
    "foo1 == foo2   \n"
   ]
  },
  {
   "cell_type": "code",
   "execution_count": 6,
   "metadata": {},
   "outputs": [
    {
     "data": {
      "text/plain": [
       "True"
      ]
     },
     "execution_count": 6,
     "metadata": {},
     "output_type": "execute_result"
    }
   ],
   "source": [
    "class Singleton(object):\n",
    "    \"\"\"\n",
    "    重写基类ｎｅｗ　方法\n",
    "    \"\"\"\n",
    "    def __new__(cls,*args,**kwrags):\n",
    "        if not hasattr(cls,'_instance'):\n",
    "            cls._instance = super(Singleton,cls).__new__(cls,*args,**kwrags)\n",
    "        return cls._instance\n",
    "        \n",
    "  \n",
    "class Foo(Singleton):\n",
    "    pass\n",
    "\n",
    "foo1 = Foo()\n",
    "foo2 = Foo()\n",
    "foo1 == foo2  "
   ]
  },
  {
   "cell_type": "code",
   "execution_count": null,
   "metadata": {},
   "outputs": [],
   "source": []
  }
 ],
 "metadata": {
  "kernelspec": {
   "display_name": "Python 3",
   "language": "python",
   "name": "python3"
  },
  "language_info": {
   "codemirror_mode": {
    "name": "ipython",
    "version": 3
   },
   "file_extension": ".py",
   "mimetype": "text/x-python",
   "name": "python",
   "nbconvert_exporter": "python",
   "pygments_lexer": "ipython3",
   "version": "3.6.7"
  }
 },
 "nbformat": 4,
 "nbformat_minor": 2
}
