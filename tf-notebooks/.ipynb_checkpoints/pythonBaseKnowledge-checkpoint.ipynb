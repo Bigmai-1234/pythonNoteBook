{
 "cells": [
  {
   "cell_type": "code",
   "execution_count": 1,
   "metadata": {},
   "outputs": [
    {
     "name": "stdout",
     "output_type": "stream",
     "text": [
      "\n",
      "\n",
      "反转一个整数，例如-123 --> -321\n",
      "\n"
     ]
    }
   ],
   "source": [
    "print(\"\"\"\n",
    "\n",
    "反转一个整数，例如-123 --> -321\n",
    "\"\"\")\n"
   ]
  },
  {
   "cell_type": "code",
   "execution_count": 4,
   "metadata": {},
   "outputs": [
    {
     "name": "stdout",
     "output_type": "stream",
     "text": [
      "-321\n"
     ]
    }
   ],
   "source": [
    "class Solution():\n",
    "    def reverseInt(self,x):\n",
    "        if -10 < x <10:\n",
    "            return x\n",
    "        xStr = str(x)\n",
    "        if xStr[0] != '-':\n",
    "            return int(xStr[::-1])    \n",
    "        else:\n",
    "            return -int(xStr[1:][::-1])\n",
    "    \n",
    "if __name__ == '__main__':\n",
    "    s = Solution()\n",
    "    reverse_int = s.reverseInt(-123)\n",
    "    print(reverse_int)"
   ]
  },
  {
   "cell_type": "code",
   "execution_count": 11,
   "metadata": {},
   "outputs": [
    {
     "name": "stdout",
     "output_type": "stream",
     "text": [
      "['./tensorflow1.ipynb', './python Singleton.ipynb', './hosingPricePredict.ipynb', './DecisionTree.ipynb', './pythonBaseKnowledge.ipynb', './TensorFlow.ipynb', './.ipynb_checkpoints/TensorFlow-checkpoint.ipynb', './.ipynb_checkpoints/hosingPricePredict-checkpoint.ipynb', './.ipynb_checkpoints/pythonBaseKnowledge-checkpoint.ipynb', './.ipynb_checkpoints/python Singleton-checkpoint.ipynb', './.ipynb_checkpoints/tensorflow1-checkpoint.ipynb', './.ipynb_checkpoints/DecisionTree-checkpoint.ipynb', './titanic/titanic.ipynb', './titanic/.ipynb_checkpoints/titanic-checkpoint.ipynb']\n"
     ]
    }
   ],
   "source": [
    "import os\n",
    "\n",
    "def get_files(dir,suffix):\n",
    "    res = []\n",
    "    for root,dirs,files in os.walk(dir):\n",
    "        \n",
    "        for filename in files:\n",
    "            \"\"\"\n",
    "            os.path.splitext(“文件路径”) 分离文件名与扩展名\n",
    "            \"\"\"\n",
    "            name,suf = os.path.splitext(filename)\n",
    "            if suf == suffix:\n",
    "                res.append(os.path.join(root,filename))\n",
    "\n",
    "    print(res)\n",
    "\n",
    "get_files(\"./\",'.ipynb')"
   ]
  },
  {
   "cell_type": "code",
   "execution_count": 15,
   "metadata": {},
   "outputs": [],
   "source": [
    "\"\"\"\n",
    "\n",
    "装饰器本质上是一个python函数或类，它可以在让其他函数在不需要做任何代码的变动的前提下增加额外的功能。\n",
    "\n",
    "装饰器的返回值也是一个函数的对象，它经常用于有切面需求的场景。\n",
    "\n",
    "比如：插入日志，性能测试，事务处理，缓存。权限的校验等场景，\n",
    "\n",
    "有了装饰器就可以抽离出大量的与函数功能本身无关的雷同代码并发并继续使用。 \n",
    "\n",
    "\n",
    "\n",
    "\n",
    "\n",
    "\n",
    "\n",
    "写出一个计时器记录方法执行性能的装饰器\n",
    "\"\"\"\n",
    "\n",
    "import time \n",
    "from functools import wraps\n",
    "\n",
    "def timeit(func):\n",
    "    @wraps(func)\n",
    "    def wrapper(*args,**kwargs):\n",
    "        start = time.clock()\n",
    "        ret = func(*args,**kwargs)\n",
    "        end = time.clock()\n",
    "        print (end - start)\n",
    "        return ret\n",
    "    return wrapper\n",
    "    \n",
    "\n",
    "@timeit\n",
    "def foo():\n",
    "    pass\n"
   ]
  },
  {
   "cell_type": "code",
   "execution_count": 19,
   "metadata": {},
   "outputs": [
    {
     "name": "stdout",
     "output_type": "stream",
     "text": [
      "[[1, 2, 3], [4, 5, 6], [7, 8, 9], [10, 11, 12], [13, 14, 15], [16, 17, 18], [19, 20, 21], [22, 23, 24], [25, 26, 27], [28, 29, 30], [31, 32, 33], [34, 35, 36], [37, 38, 39], [40, 41, 42], [43, 44, 45], [46, 47, 48], [49, 50, 51], [52, 53, 54], [55, 56, 57], [58, 59, 60], [61, 62, 63], [64, 65, 66], [67, 68, 69], [70, 71, 72], [73, 74, 75], [76, 77, 78], [79, 80, 81], [82, 83, 84], [85, 86, 87], [88, 89, 90], [91, 92, 93], [94, 95, 96], [97, 98, 99]]\n"
     ]
    }
   ],
   "source": [
    "\"\"\"\n",
    " 生成器能做到迭代器能做的所有事，而且因为自动创建iter()和next()方法，\n",
    " \n",
    " 生成器显得特别简洁，而且生成器也是高效的，使用生成器表达式取代列表解析可以同时节省内存。\n",
    " \n",
    " 除了创建和保存程序状态的自动方法，当发生器终结时，还会自动抛出StopIteration异常。\n",
    "\n",
    "\"\"\"\n",
    "\n",
    "print ([[x for x in range(1,100)] [i:i+3] for i in range(0,100,3)][:-1])"
   ]
  },
  {
   "cell_type": "code",
   "execution_count": null,
   "metadata": {},
   "outputs": [],
   "source": [
    "\"\"\"\n",
    "\n",
    "python 系统编程\n",
    "\n",
    "\n",
    "\"\"\"\n"
   ]
  },
  {
   "cell_type": "code",
   "execution_count": null,
   "metadata": {},
   "outputs": [],
   "source": []
  }
 ],
 "metadata": {
  "kernelspec": {
   "display_name": "Python 3",
   "language": "python",
   "name": "python3"
  },
  "language_info": {
   "codemirror_mode": {
    "name": "ipython",
    "version": 3
   },
   "file_extension": ".py",
   "mimetype": "text/x-python",
   "name": "python",
   "nbconvert_exporter": "python",
   "pygments_lexer": "ipython3",
   "version": "3.6.7"
  }
 },
 "nbformat": 4,
 "nbformat_minor": 2
}
